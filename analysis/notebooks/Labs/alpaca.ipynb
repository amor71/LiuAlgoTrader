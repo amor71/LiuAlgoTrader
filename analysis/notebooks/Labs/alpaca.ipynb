{
 "cells": [
  {
   "cell_type": "code",
   "execution_count": null,
   "id": "chinese-portuguese",
   "metadata": {},
   "outputs": [],
   "source": [
    "from datetime import date, datetime\n",
    "import pandas as pd\n",
    "from pytz import timezone\n",
    "from alpaca_trade_api.rest import REST, URL, TimeFrame\n",
    "from liualgotrader.common import config"
   ]
  },
  {
   "cell_type": "code",
   "execution_count": null,
   "id": "9c13a72b",
   "metadata": {},
   "outputs": [],
   "source": [
    "nyc = timezone(\"America/New_York\")"
   ]
  },
  {
   "cell_type": "code",
   "execution_count": null,
   "id": "designing-phenomenon",
   "metadata": {},
   "outputs": [],
   "source": [
    "alpaca_rest_client = REST(\n",
    "    key_id=config.alpaca_api_key, secret_key=config.alpaca_api_secret\n",
    ")"
   ]
  },
  {
   "cell_type": "markdown",
   "id": "661c4d11",
   "metadata": {},
   "source": [
    "### Calendar"
   ]
  },
  {
   "cell_type": "code",
   "execution_count": null,
   "id": "088a405f",
   "metadata": {},
   "outputs": [],
   "source": [
    "since = alpaca_rest_client.get_calendar('2021-11-10', '2021-11-24')\n",
    "print(since[-1])\n",
    "print(since[0])\n",
    "print(len(since))\n",
    "print(nyc.localize(datetime.combine(since[0].date.date(),since[0].open)))"
   ]
  },
  {
   "cell_type": "code",
   "execution_count": null,
   "id": "8f3e47ac",
   "metadata": {},
   "outputs": [],
   "source": [
    "print((len(since))*(20-4)*60)"
   ]
  },
  {
   "cell_type": "markdown",
   "id": "eb8920a4",
   "metadata": {},
   "source": [
    "### Assets"
   ]
  },
  {
   "cell_type": "code",
   "execution_count": null,
   "id": "38453084",
   "metadata": {},
   "outputs": [],
   "source": [
    "assets = alpaca_rest_client.list_assets(status='active')"
   ]
  },
  {
   "cell_type": "code",
   "execution_count": null,
   "id": "d3898573",
   "metadata": {},
   "outputs": [],
   "source": [
    "assets"
   ]
  },
  {
   "cell_type": "code",
   "execution_count": null,
   "id": "6d7a90fb",
   "metadata": {},
   "outputs": [],
   "source": [
    "[asset for asset in assets if asset.tradable and asset.symbol == 'PBCRY']"
   ]
  },
  {
   "cell_type": "markdown",
   "id": "23dfd61a",
   "metadata": {},
   "source": [
    "### snapshots"
   ]
  },
  {
   "cell_type": "code",
   "execution_count": null,
   "id": "6cc77f14",
   "metadata": {},
   "outputs": [],
   "source": [
    "data = alpaca_rest_client.get_snapshot(\"AAPL\")\n",
    "print(data.minute_bar)"
   ]
  },
  {
   "cell_type": "code",
   "execution_count": null,
   "id": "1ed2bdf4",
   "metadata": {},
   "outputs": [],
   "source": [
    "data = alpaca_rest_client.get_snapshots([\"PBCRY\"])\n",
    "data"
   ]
  },
  {
   "cell_type": "code",
   "execution_count": null,
   "id": "c1474bda",
   "metadata": {},
   "outputs": [],
   "source": [
    "alpaca_rest_client.list_assets(status='active')"
   ]
  },
  {
   "cell_type": "code",
   "execution_count": null,
   "id": "fcbe9356",
   "metadata": {},
   "outputs": [],
   "source": [
    "symbols = [\n",
    "    asset.symbol\n",
    "    for asset in alpaca_rest_client.list_assets(\n",
    "        status=\"active\", asset_class=\"us_equity\"\n",
    "    )\n",
    "    if asset.tradable == True\n",
    "]"
   ]
  },
  {
   "cell_type": "code",
   "execution_count": null,
   "id": "6cab01dc",
   "metadata": {},
   "outputs": [],
   "source": [
    "chunk_size = 1000\n",
    "chunked_symbols = [symbols[i:i+chunk_size] for i in range(0, len(symbols), chunk_size)]\n",
    "len(chunked_symbols)"
   ]
  },
  {
   "cell_type": "code",
   "execution_count": null,
   "id": "059e3031",
   "metadata": {},
   "outputs": [],
   "source": [
    "for chunk in chunked_symbols:\n",
    "    data = alpaca_rest_client.get_snapshots(chunk)\n",
    "    print(data)"
   ]
  },
  {
   "cell_type": "markdown",
   "id": "e7c39464",
   "metadata": {},
   "source": [
    "### Crypto\n"
   ]
  },
  {
   "cell_type": "code",
   "execution_count": null,
   "id": "c78fb66f",
   "metadata": {},
   "outputs": [],
   "source": [
    "bars = alpaca_rest_client.get_bars(\n",
    "    symbol=\"USDBTC\",\n",
    "    timeframe=TimeFrame.Minute,\n",
    "    start=date(year=2021, month=4, day=1),\n",
    "    end=date(year=2021, month=4, day=2),\n",
    ")\n",
    "bars"
   ]
  },
  {
   "cell_type": "markdown",
   "id": "b8194438",
   "metadata": {},
   "source": [
    "### bars"
   ]
  },
  {
   "cell_type": "code",
   "execution_count": null,
   "id": "distinct-survey",
   "metadata": {},
   "outputs": [],
   "source": [
    "bars = alpaca_rest_client.get_bars(\n",
    "    symbol=\"AAPL\",\n",
    "    timeframe=\"1Day\",\n",
    "    start=\"2020-10-01T00:00:00-04:00\",\n",
    "    end=\"2020-10-02T00:00:00-04:00\",\n",
    "    limit=10000000,\n",
    "    adjustment=\"all\").df\n",
    "bars.index = bars.index.tz_convert('America/New_York') "
   ]
  },
  {
   "cell_type": "code",
   "execution_count": null,
   "id": "0be455c9",
   "metadata": {},
   "outputs": [],
   "source": [
    "bars"
   ]
  },
  {
   "cell_type": "code",
   "execution_count": null,
   "id": "3a794d65",
   "metadata": {},
   "outputs": [],
   "source": [
    "bars.loc[['2020-12-04 05:42:00-05:00']]"
   ]
  },
  {
   "cell_type": "markdown",
   "id": "feb885e1",
   "metadata": {},
   "source": [
    "### multi symbol bars"
   ]
  },
  {
   "cell_type": "code",
   "execution_count": null,
   "id": "726d748b",
   "metadata": {},
   "outputs": [],
   "source": [
    "symbols = [\"AAPL\", \"IBM\"]\n",
    "bars = alpaca_rest_client.get_bars(\n",
    "    symbol=symbols,\n",
    "    timeframe=TimeFrame.Hour,\n",
    "    start=date(year=2019, month=6, day=14),\n",
    "    end=date(year=2021, month=6, day=14),\n",
    ")"
   ]
  },
  {
   "cell_type": "code",
   "execution_count": null,
   "id": "4f23a3e4",
   "metadata": {},
   "outputs": [],
   "source": [
    "bars"
   ]
  },
  {
   "cell_type": "code",
   "execution_count": null,
   "id": "666359f9",
   "metadata": {},
   "outputs": [],
   "source": [
    "df = pd.read_json(json.dumps(bars._raw))\n",
    "grouped = df.groupby(df['S'])\n",
    "for symbol in df['S'].unique():\n",
    "    temporary_df = grouped.get_group(symbol)\n",
    "    print(symbol)\n",
    "    print(temporary_df)"
   ]
  },
  {
   "cell_type": "code",
   "execution_count": null,
   "id": "ada41cce",
   "metadata": {},
   "outputs": [],
   "source": []
  }
 ],
 "metadata": {
  "kernelspec": {
   "display_name": "Python 3 (ipykernel)",
   "language": "python",
   "name": "python3"
  },
  "language_info": {
   "codemirror_mode": {
    "name": "ipython",
    "version": 3
   },
   "file_extension": ".py",
   "mimetype": "text/x-python",
   "name": "python",
   "nbconvert_exporter": "python",
   "pygments_lexer": "ipython3"
  }
 },
 "nbformat": 4,
 "nbformat_minor": 5
}
