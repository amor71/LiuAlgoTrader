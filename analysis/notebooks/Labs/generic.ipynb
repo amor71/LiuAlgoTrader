{
 "cells": [
  {
   "cell_type": "markdown",
   "id": "96b6c4f6",
   "metadata": {},
   "source": [
    "## Lists"
   ]
  },
  {
   "cell_type": "markdown",
   "id": "17f62309",
   "metadata": {},
   "source": [
    "### zip"
   ]
  },
  {
   "cell_type": "code",
   "execution_count": null,
   "id": "edce045b",
   "metadata": {},
   "outputs": [],
   "source": [
    "# turn range into slices\n",
    "l = [1, 2, 3, 4, 5]\n",
    "print(list(zip(l, l[1:])))"
   ]
  },
  {
   "cell_type": "code",
   "execution_count": null,
   "id": "3753b3e3",
   "metadata": {},
   "outputs": [],
   "source": []
  }
 ],
 "metadata": {
  "kernelspec": {
   "display_name": "Python 3 (ipykernel)",
   "language": "python",
   "name": "python3"
  },
  "language_info": {
   "codemirror_mode": {
    "name": "ipython",
    "version": 3
   },
   "file_extension": ".py",
   "mimetype": "text/x-python",
   "name": "python",
   "nbconvert_exporter": "python",
   "pygments_lexer": "ipython3",
   "version": "3.9.0"
  }
 },
 "nbformat": 4,
 "nbformat_minor": 5
}
