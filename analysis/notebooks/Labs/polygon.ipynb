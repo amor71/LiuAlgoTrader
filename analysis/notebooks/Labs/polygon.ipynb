{
 "cells": [
  {
   "cell_type": "code",
   "execution_count": null,
   "id": "b9b144c6",
   "metadata": {},
   "outputs": [],
   "source": [
    "from polygon import STOCKS_CLUSTER, RESTClient, WebSocketClient\n",
    "from liualgotrader.common import config"
   ]
  },
  {
   "cell_type": "code",
   "execution_count": null,
   "id": "99d699f5",
   "metadata": {},
   "outputs": [],
   "source": [
    "polygon_rest_client = RESTClient(config.polygon_api_key)"
   ]
  },
  {
   "cell_type": "markdown",
   "id": "fc0be51f",
   "metadata": {},
   "source": [
    "## snapshots"
   ]
  },
  {
   "cell_type": "code",
   "execution_count": null,
   "id": "be120b2a",
   "metadata": {},
   "outputs": [],
   "source": [
    "tickets = polygon_rest_client.stocks_equities_snapshot_all_tickers()"
   ]
  }
 ],
 "metadata": {
  "kernelspec": {
   "display_name": "Python 3 (ipykernel)",
   "language": "python",
   "name": "python3"
  },
  "language_info": {
   "codemirror_mode": {
    "name": "ipython",
    "version": 3
   },
   "file_extension": ".py",
   "mimetype": "text/x-python",
   "name": "python",
   "nbconvert_exporter": "python",
   "pygments_lexer": "ipython3",
   "version": "3.9.0"
  }
 },
 "nbformat": 4,
 "nbformat_minor": 5
}
