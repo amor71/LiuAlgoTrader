{
 "cells": [
  {
   "cell_type": "code",
   "execution_count": null,
   "metadata": {},
   "outputs": [],
   "source": [
    "!pip install plotly\n",
    "!pip install chart_studio"
   ]
  },
  {
   "cell_type": "markdown",
   "metadata": {},
   "source": [
    "## Select stock symbol and date range"
   ]
  },
  {
   "cell_type": "code",
   "execution_count": null,
   "metadata": {},
   "outputs": [],
   "source": [
    "symbol = 'NETE'\n",
    "start_date = \"2020-12-11\"\n",
    "end_date = \"2020-12-12\"\n",
    "anchored_vwaps_start = ['2020-12-11 09:30:00', '2020-12-11 14:20:00']"
   ]
  },
  {
   "cell_type": "markdown",
   "metadata": {},
   "source": [
    "#### Imports"
   ]
  },
  {
   "cell_type": "code",
   "execution_count": null,
   "metadata": {},
   "outputs": [],
   "source": [
    "# silence warnings\n",
    "import warnings\n",
    "import numpy as np\n",
    "import pandas as pd\n",
    "import pytz\n",
    "import plotly.graph_objects as go\n",
    "import chart_studio.plotly as py\n",
    "from datetime import datetime\n",
    "import alpaca_trade_api as tradeapi\n",
    "from liualgotrader.common.market_data import get_symbol_data\n",
    "from liualgotrader.fincalcs.vwap import anchored_vwap\n",
    "from liualgotrader.fincalcs.resample import resample, ResampleRangeType\n",
    "%matplotlib inline\n",
    "warnings.filterwarnings(\"ignore\")\n",
    "est = pytz.timezone(\"US/Eastern\")"
   ]
  },
  {
   "cell_type": "markdown",
   "metadata": {},
   "source": [
    "#### Load symbol data"
   ]
  },
  {
   "cell_type": "code",
   "execution_count": null,
   "metadata": {},
   "outputs": [],
   "source": [
    "start_date = est.localize(datetime.strptime(start_date, \"%Y-%m-%d\"))\n",
    "end_date = est.localize(datetime.strptime(end_date, \"%Y-%m-%d\"))"
   ]
  },
  {
   "cell_type": "code",
   "execution_count": null,
   "metadata": {},
   "outputs": [],
   "source": [
    "ohlc_data = get_symbol_data(symbol, start_date, end_date)\n",
    "ohlc_data"
   ]
  },
  {
   "cell_type": "code",
   "execution_count": null,
   "metadata": {},
   "outputs": [],
   "source": [
    "if ohlc_data is None or ohlc_data.empty:\n",
    "    assert False, \"No data loaded\""
   ]
  },
  {
   "cell_type": "markdown",
   "metadata": {},
   "source": [
    "## Visuals"
   ]
  },
  {
   "cell_type": "code",
   "execution_count": null,
   "metadata": {},
   "outputs": [],
   "source": [
    "anchored_vwap_starts = [\n",
    "    datetime.strptime(anchored_vwap_start, \"%Y-%m-%d %H:%M:%S\").replace(tzinfo=est)\n",
    "    for anchored_vwap_start in anchored_vwaps_start\n",
    "]\n",
    "org_ohlc_data = ohlc_data\n",
    "\n",
    "for sample_rate in (\n",
    "    ResampleRangeType.min_1,\n",
    "    ResampleRangeType.min_5,\n",
    "    ResampleRangeType.min_15,\n",
    "):\n",
    "    ohlc_data = resample(org_ohlc_data, sample_rate)\n",
    "    anchored_vwap_indicators = [\n",
    "        anchored_vwap(ohlc_data, anchored_vwap_start)\n",
    "        for anchored_vwap_start in anchored_vwap_starts\n",
    "    ]\n",
    "\n",
    "    trace1 = {\n",
    "        \"x\": ohlc_data.index,\n",
    "        \"open\": ohlc_data.open,\n",
    "        \"high\": ohlc_data.high,\n",
    "        \"low\": ohlc_data.low,\n",
    "        \"close\": ohlc_data.close,\n",
    "        \"type\": \"candlestick\",\n",
    "        \"name\": f\"{symbol} {sample_rate} bars\",\n",
    "        \"yaxis\": \"y2\",\n",
    "        \"showlegend\": True,\n",
    "    }\n",
    "    trace2 = [\n",
    "        {\n",
    "            \"x\": anchored_vwap_indicator.index,\n",
    "            \"y\": anchored_vwap_indicator,\n",
    "            \"type\": \"scatter\",\n",
    "            \"mode\": \"lines\",\n",
    "            \"line\": {\"width\": 2, \"color\": \"black\"},\n",
    "            \"yaxis\": \"y2\",\n",
    "            \"name\": f\"VWAP-{indx+1}\",\n",
    "            \"showlegend\": True,\n",
    "        }\n",
    "        for indx, anchored_vwap_indicator in enumerate(anchored_vwap_indicators)\n",
    "    ]\n",
    "    fig = dict(data=[trace1], layout=dict())\n",
    "\n",
    "    fig[\"layout\"][\"plot_bgcolor\"] = \"rgb(200, 200, 200)\"\n",
    "    fig[\"layout\"][\"xaxis\"] = dict(rangeselector=dict(visible=True))\n",
    "    fig[\"layout\"][\"yaxis\"] = dict(domain=[0, 0.2], showticklabels=False)\n",
    "    fig[\"layout\"][\"yaxis2\"] = dict(domain=[0.2, 0.8])\n",
    "    fig[\"layout\"][\"legend\"] = dict(\n",
    "        orientation=\"h\",\n",
    "        y=0.95,\n",
    "        x=0.3,\n",
    "        yanchor=\"bottom\",\n",
    "    )\n",
    "    fig[\"layout\"][\"margin\"] = dict(t=40, b=40, r=40, l=40)\n",
    "\n",
    "    rangeselector = dict(\n",
    "        # visibe = True,\n",
    "        x=0,\n",
    "        y=0.9,\n",
    "        bgcolor=\"rgba(150, 200, 250, 0.4)\",\n",
    "        font=dict(size=13),\n",
    "        buttons=list(\n",
    "            [\n",
    "                dict(count=1, label=\"1 yr\", step=\"year\"),\n",
    "                dict(count=3, label=\"3 mo\", step=\"month\", stepmode=\"backward\"),\n",
    "                dict(count=1, label=\"1 mo\", step=\"month\", stepmode=\"backward\"),\n",
    "                dict(count=7, label=\"1 wk\", step=\"day\", stepmode=\"backward\"),\n",
    "                dict(step=\"all\"),\n",
    "            ]\n",
    "        ),\n",
    "    )\n",
    "\n",
    "    fig[\"layout\"][\"xaxis\"][\"rangeselector\"] = rangeselector\n",
    "\n",
    "    fig[\"data\"] += trace2\n",
    "\n",
    "    colors = []\n",
    "\n",
    "    for i in range(len(ohlc_data.close)):\n",
    "        if i != 0:\n",
    "            if ohlc_data.close[i] > ohlc_data.close[i - 1]:\n",
    "                colors.append(\"green\")\n",
    "            else:\n",
    "                colors.append(\"red\")\n",
    "        else:\n",
    "            colors.append(\"red\")\n",
    "\n",
    "    fig[\"data\"].append(\n",
    "        dict(\n",
    "            x=ohlc_data.index,\n",
    "            y=ohlc_data.volume,\n",
    "            marker=dict(color=colors),\n",
    "            type=\"bar\",\n",
    "            yaxis=\"y\",\n",
    "            name=\"Volume\",\n",
    "            showlegend=False,\n",
    "        )\n",
    "    )\n",
    "\n",
    "    f = go.Figure(data=fig[\"data\"], layout=fig[\"layout\"])\n",
    "    f.show()"
   ]
  }
 ],
 "metadata": {
  "kernelspec": {
   "display_name": "Python 3 (ipykernel)",
   "language": "python",
   "name": "python3"
  },
  "language_info": {
   "codemirror_mode": {
    "name": "ipython",
    "version": 3
   },
   "file_extension": ".py",
   "mimetype": "text/x-python",
   "name": "python",
   "nbconvert_exporter": "python",
   "pygments_lexer": "ipython3",
   "version": "3.9.0"
  }
 },
 "nbformat": 4,
 "nbformat_minor": 4
}
