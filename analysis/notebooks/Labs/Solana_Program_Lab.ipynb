{
 "cells": [
  {
   "cell_type": "markdown",
   "id": "0407028b",
   "metadata": {},
   "source": [
    "# Solana Calculations vs. Python"
   ]
  },
  {
   "cell_type": "code",
   "execution_count": null,
   "id": "86fa0719",
   "metadata": {},
   "outputs": [],
   "source": [
    "#!pip install liualgotrader\n",
    "#!pip install solana\n",
    "\n",
    "import pandas as pd\n",
    "import numpy as np\n",
    "from scipy import stats\n",
    "from typing import Tuple, List\n",
    "from liualgotrader.common.data_loader import DataLoader\n",
    "from liualgotrader.common.types import TimeScale\n",
    "from datetime import datetime\n",
    "\n",
    "from solana.keypair import Keypair\n",
    "from solana.publickey import PublicKey\n",
    "from solana.rpc.async_api import AsyncClient\n",
    "\n",
    "from liualgotrader.common import solana as liusol\n",
    "\n",
    "import matplotlib.pyplot as plt\n",
    "%matplotlib inline"
   ]
  },
  {
   "cell_type": "markdown",
   "id": "488c21dd",
   "metadata": {},
   "source": [
    "### Load Data for Analysis"
   ]
  },
  {
   "cell_type": "code",
   "execution_count": null,
   "id": "9ce7428c",
   "metadata": {},
   "outputs": [],
   "source": [
    "dl = DataLoader(scale=TimeScale.day)"
   ]
  },
  {
   "cell_type": "code",
   "execution_count": null,
   "id": "9b5bae65",
   "metadata": {},
   "outputs": [],
   "source": [
    "data = dl[\"TSLA\"].close[-200:]"
   ]
  },
  {
   "cell_type": "code",
   "execution_count": null,
   "id": "884a59da",
   "metadata": {},
   "outputs": [],
   "source": [
    "data"
   ]
  },
  {
   "cell_type": "markdown",
   "id": "d98e0828",
   "metadata": {},
   "source": [
    "### Calculate in Python"
   ]
  },
  {
   "cell_type": "code",
   "execution_count": null,
   "id": "37b8c9c8",
   "metadata": {},
   "outputs": [],
   "source": [
    "def calc_trend(x: np.array, y: np.array) -> Tuple[float, float, float]:\n",
    "    slope, intercept, r_value, _, _ = stats.linregress(x, y)\n",
    "    \n",
    "    return slope, intercept, r_value \n",
    "\n",
    "def f(x: int, slope: float, intercept: float) -> float:\n",
    "    return slope * x + intercept\n",
    "\n",
    "def py_trendline(data: pd.DataFrame) -> np.array:\n",
    "    x = np.arange(len(data)) \n",
    "    y = data.to_numpy()\n",
    "    \n",
    "    slope, intercept, r_value = calc_trend(x, y)\n",
    "    print(f\"Python slope:{slope} intercept:{intercept}, r_value:{r_value} score:{slope * r_value * r_value}\")\n",
    "    return np.array([f(i, slope, intercept) for i in x])"
   ]
  },
  {
   "cell_type": "code",
   "execution_count": null,
   "id": "b3acf5c0",
   "metadata": {},
   "outputs": [],
   "source": [
    "log_ts = np.log(data)\n",
    "log2_ts = np.log2(data)"
   ]
  },
  {
   "cell_type": "markdown",
   "id": "42af74b1",
   "metadata": {},
   "source": [
    "### Calculate in Solana"
   ]
  },
  {
   "cell_type": "code",
   "execution_count": null,
   "id": "575c3f95",
   "metadata": {},
   "outputs": [],
   "source": [
    "def sol_trendline(slope:float, intercept:float, r_value:float, length:int) -> np.array:\n",
    "    x = np.arange(length) \n",
    "    print(f\"Solana slope:{slope} intercept:{intercept}, r_value:{r_value} score:{slope * r_value * r_value}\")\n",
    "    return np.array([f(i, slope, intercept) for i in x])"
   ]
  },
  {
   "cell_type": "code",
   "execution_count": null,
   "id": "15e36db3",
   "metadata": {},
   "outputs": [],
   "source": [
    "solana_network: str = \"https://api.devnet.solana.com\"\n",
    "programId: str = \"64ZdvpvU73ig1NVd36xNGqpy5JyAN2kCnVoF7M4wJ53e\"\n",
    "wallet_filename = \"/Users/amichayoren/.config/solana/id.json\"\n",
    "\n",
    "client = AsyncClient(solana_network)\n",
    "print(f\"Is connection established:{await client.is_connected()}\")"
   ]
  },
  {
   "cell_type": "code",
   "execution_count": null,
   "id": "aaf78d82",
   "metadata": {},
   "outputs": [],
   "source": [
    "program_key = PublicKey(programId)\n",
    "payer = liusol.load_wallet(wallet_filename)\n",
    "response_key = await liusol.set_response_account(client, payer, program_key)"
   ]
  },
  {
   "cell_type": "code",
   "execution_count": null,
   "id": "85da9ad4",
   "metadata": {},
   "outputs": [],
   "source": [
    "data_sol = await liusol.get_program_result(\n",
    "    client=client,\n",
    "    payer=payer,\n",
    "    program_key=program_key,\n",
    "    response_key=response_key,\n",
    "    data=data,\n",
    ")\n",
    "data_sol "
   ]
  },
  {
   "cell_type": "code",
   "execution_count": null,
   "id": "9493b7bf",
   "metadata": {},
   "outputs": [],
   "source": [
    "data_sol_ln = await liusol.get_program_result(\n",
    "    client=client,\n",
    "    payer=payer,\n",
    "    program_key=program_key,\n",
    "    response_key=response_key,\n",
    "    data=log_ts,\n",
    ")\n",
    "data_sol_ln"
   ]
  },
  {
   "cell_type": "code",
   "execution_count": null,
   "id": "e94e7411",
   "metadata": {},
   "outputs": [],
   "source": [
    "data_sol_log2 = await liusol.get_program_result(\n",
    "    client=client,\n",
    "    payer=payer,\n",
    "    program_key=program_key,\n",
    "    response_key=response_key,\n",
    "    data=log2_ts,\n",
    ")\n",
    "data_sol_log2"
   ]
  },
  {
   "cell_type": "markdown",
   "id": "8680274a",
   "metadata": {},
   "source": [
    "## Visualize Original data, Ln, Log2 w/ trend lines from both Python and Solana"
   ]
  },
  {
   "cell_type": "code",
   "execution_count": null,
   "id": "0d13d818",
   "metadata": {},
   "outputs": [],
   "source": [
    "fig = plt.figure()\n",
    "fig.set_figwidth(40)\n",
    "fig.set_figheight(10)\n",
    "\n",
    "lefty = plt.subplot(131)\n",
    "                              \n",
    "lefty.plot(\n",
    "    data,\n",
    "    label=\"200 Days close data\",\n",
    ")\n",
    "lefty.plot(\n",
    "    data.index,\n",
    "    py_trendline(data),\n",
    "    label=\"python trendline\",\n",
    ")\n",
    "lefty.plot(\n",
    "    data.index,\n",
    "    sol_trendline(data_sol[0], data_sol[1], data_sol[2], len(data)),\n",
    "    label=\"solana trendline\",\n",
    ")\n",
    "lefty.legend()\n",
    "plt.xticks(rotation=45)  \n",
    "\n",
    "center = plt.subplot(132)\n",
    "\n",
    "center.plot(\n",
    "    log_ts,\n",
    "    label=\"LOG (NL) 200 Days close data\",\n",
    ")\n",
    "center.plot(\n",
    "    data.index,\n",
    "    py_trendline(log_ts),\n",
    "    label=\"trendline\",\n",
    ")\n",
    "center.plot(\n",
    "    data.index,\n",
    "    sol_trendline(data_sol_ln[0], data_sol_ln[1], data_sol_ln[2], len(log_ts)),\n",
    "    label=\"solana trendline\",\n",
    ")\n",
    "center.legend()\n",
    "plt.xticks(rotation=45)  \n",
    "\n",
    "righty = plt.subplot(133)\n",
    "righty.plot(\n",
    "    log2_ts,\n",
    "    label=\"LOG2 200 Days close data\",\n",
    ")\n",
    "righty.plot(\n",
    "    data.index,\n",
    "    py_trendline(log2_ts),\n",
    "    label=\"trendline\",\n",
    ")\n",
    "righty.plot(\n",
    "    data.index,\n",
    "    sol_trendline(data_sol_log2[0], data_sol_log2[1], data_sol_log2[2], len(log2_ts)),\n",
    "    label=\"solana trendline\",\n",
    ")\n",
    "righty.legend()\n",
    "plt.xticks(rotation=45)  \n",
    "plt.show()"
   ]
  }
 ],
 "metadata": {
  "kernelspec": {
   "display_name": "Python 3 (ipykernel)",
   "language": "python",
   "name": "python3"
  },
  "language_info": {
   "codemirror_mode": {
    "name": "ipython",
    "version": 3
   },
   "file_extension": ".py",
   "mimetype": "text/x-python",
   "name": "python",
   "nbconvert_exporter": "python",
   "pygments_lexer": "ipython3"
  }
 },
 "nbformat": 4,
 "nbformat_minor": 5
}
