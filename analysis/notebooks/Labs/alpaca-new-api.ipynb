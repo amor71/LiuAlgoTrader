{
 "cells": [
  {
   "cell_type": "code",
   "execution_count": null,
   "id": "chinese-portuguese",
   "metadata": {},
   "outputs": [],
   "source": [
    "from datetime import date, datetime, time\n",
    "import pandas as pd\n",
    "import pytz\n",
    "import numpy as np\n",
    "from alpaca.trading.client import TradingClient\n",
    "from alpaca.trading.requests import GetCalendarRequest\n",
    "from alpaca.trading.models import Calendar\n",
    "from alpaca.data import (\n",
    "    CryptoHistoricalDataClient,\n",
    "    StockHistoricalDataClient,\n",
    "    StockSnapshotRequest,\n",
    "    StockLatestBarRequest,\n",
    "    CryptoBarsRequest,\n",
    "    StockBarsRequest\n",
    ")\n",
    "from alpaca.data.timeframe import TimeFrame, TimeFrameUnit\n",
    "from liualgotrader.common import config\n",
    "from typing import Tuple\n",
    "from zoneinfo import ZoneInfo"
   ]
  },
  {
   "cell_type": "code",
   "execution_count": null,
   "id": "9c13a72b",
   "metadata": {},
   "outputs": [],
   "source": [
    "NY = \"America/New_York\"\n",
    "nytz = pytz.timezone(NY)"
   ]
  },
  {
   "cell_type": "code",
   "execution_count": null,
   "id": "designing-phenomenon",
   "metadata": {},
   "outputs": [],
   "source": [
    "trading_client = TradingClient(\n",
    "    api_key=config.alpaca_api_key,\n",
    "    secret_key=config.alpaca_api_secret,\n",
    "    paper=True,\n",
    ")\n",
    "stock_client = StockHistoricalDataClient(\n",
    "    api_key=config.alpaca_api_key,\n",
    "    secret_key=config.alpaca_api_secret,)\n",
    "crypto_client = CryptoHistoricalDataClient(\n",
    "    api_key=config.alpaca_api_key,\n",
    "    secret_key=config.alpaca_api_secret,)"
   ]
  },
  {
   "cell_type": "markdown",
   "id": "661c4d11",
   "metadata": {},
   "source": [
    "### Calendar"
   ]
  },
  {
   "cell_type": "code",
   "execution_count": null,
   "id": "39a8301e",
   "metadata": {},
   "outputs": [],
   "source": [
    "trading_days = trading_client.get_calendar(  \n",
    "            filters=GetCalendarRequest(start='2023-01-01', end='2023-02-01')\n",
    "        )"
   ]
  },
  {
   "cell_type": "code",
   "execution_count": null,
   "id": "f690ff69",
   "metadata": {},
   "outputs": [],
   "source": [
    "trading_days"
   ]
  },
  {
   "cell_type": "code",
   "execution_count": null,
   "id": "088a405f",
   "metadata": {},
   "outputs": [],
   "source": [
    "trading_days[0].open.time()"
   ]
  },
  {
   "cell_type": "markdown",
   "id": "e6e4fab8",
   "metadata": {},
   "source": [
    "### Assets"
   ]
  },
  {
   "cell_type": "code",
   "execution_count": null,
   "id": "6f6ba42f",
   "metadata": {},
   "outputs": [],
   "source": [
    "trading_client.get_asset(\"ADDYY\")"
   ]
  },
  {
   "cell_type": "markdown",
   "id": "23dfd61a",
   "metadata": {},
   "source": [
    "### snapshots"
   ]
  },
  {
   "cell_type": "code",
   "execution_count": null,
   "id": "6cc77f14",
   "metadata": {},
   "outputs": [],
   "source": [
    "data = stock_client.get_stock_snapshot(StockSnapshotRequest(symbol_or_symbols=\"ADDYY\"))"
   ]
  },
  {
   "cell_type": "code",
   "execution_count": null,
   "id": "1ed2bdf4",
   "metadata": {},
   "outputs": [],
   "source": [
    "data"
   ]
  },
  {
   "cell_type": "markdown",
   "id": "e7c39464",
   "metadata": {},
   "source": [
    "### Crypto\n"
   ]
  },
  {
   "cell_type": "code",
   "execution_count": null,
   "id": "f2cd2d19",
   "metadata": {},
   "outputs": [],
   "source": [
    "start=datetime.combine(date(year=2021, month=4, day=1), datetime.min.time())\n",
    "end=datetime.combine(date(year=2021, month=4, day=2), datetime.min.time())\n",
    "print(start, end)"
   ]
  },
  {
   "cell_type": "code",
   "execution_count": null,
   "id": "c78fb66f",
   "metadata": {},
   "outputs": [],
   "source": [
    "bars = crypto_client.get_crypto_bars(\n",
    "    CryptoBarsRequest(\n",
    "        start=start,\n",
    "        end=end,\n",
    "        timeframe=TimeFrame(1, TimeFrameUnit.Minute),\n",
    "        symbol_or_symbols=[\"BTC/USD\"])).df\n",
    "bars"
   ]
  },
  {
   "cell_type": "code",
   "execution_count": null,
   "id": "acd3f477",
   "metadata": {},
   "outputs": [],
   "source": [
    "start=datetime.combine(date(year=2021, month=4, day=1), datetime.min.time())\n",
    "bars = crypto_client.get_crypto_bars(\n",
    "    CryptoBarsRequest(\n",
    "        start=start,\n",
    "        timeframe=TimeFrame(1, TimeFrameUnit.Minute),\n",
    "        symbol_or_symbols=[\"BTC/USD\"])).df\n",
    "bars"
   ]
  },
  {
   "cell_type": "markdown",
   "id": "b8194438",
   "metadata": {},
   "source": [
    "### Equity"
   ]
  },
  {
   "cell_type": "code",
   "execution_count": null,
   "id": "930d3d62",
   "metadata": {},
   "outputs": [],
   "source": [
    "bars = stock_client.get_stock_latest_bar(\n",
    "    StockLatestBarRequest(\n",
    "        timeframe=TimeFrame(1, TimeFrameUnit.Minute),\n",
    "        symbol_or_symbols=\"aapl\"))\n",
    "\n",
    "bars['AAPL'].timestamp.astimezone(tz=nytz)"
   ]
  },
  {
   "cell_type": "code",
   "execution_count": null,
   "id": "aa01dda0",
   "metadata": {},
   "outputs": [],
   "source": [
    "start=datetime.combine(date(year=2020, month=10, day=1), time(hour=0, minute=30), tzinfo=ZoneInfo(\"US/Eastern\"))\n",
    "end=datetime.combine(date(year=2020, month=10, day=2), time(hour=16, minute=0),tzinfo=ZoneInfo(\"US/Eastern\"))\n",
    "bars = stock_client.get_stock_bars(\n",
    "    StockBarsRequest(\n",
    "        start=start,\n",
    "        end=end,\n",
    "        timeframe=TimeFrame(1, TimeFrameUnit.Day),\n",
    "        symbol_or_symbols=\"aapl\")).df\n",
    "bars = bars.reset_index(level=0, drop=True)\n",
    "bars = bars.tz_convert(\"America/New_York\")\n",
    "bars"
   ]
  },
  {
   "cell_type": "code",
   "execution_count": null,
   "id": "bc5d5757",
   "metadata": {},
   "outputs": [],
   "source": [
    "start=datetime.combine(date(year=2021, month=4, day=1), datetime.min.time())\n",
    "end=datetime.combine(date(year=2021, month=4, day=2), datetime.min.time())\n",
    "print(start, end)"
   ]
  },
  {
   "cell_type": "code",
   "execution_count": null,
   "id": "6f1607e0",
   "metadata": {},
   "outputs": [],
   "source": [
    "bars = stock_client.get_stock_bars(\n",
    "    StockBarsRequest(\n",
    "        start=start,\n",
    "        end=end,\n",
    "        timeframe=TimeFrame(1, TimeFrameUnit.Minute),\n",
    "        symbol_or_symbols=\"aapl\")).df\n",
    "bars"
   ]
  },
  {
   "cell_type": "code",
   "execution_count": null,
   "id": "3a794d65",
   "metadata": {},
   "outputs": [],
   "source": [
    "bars = bars.reset_index(level=0, drop=True)\n",
    "bars"
   ]
  },
  {
   "cell_type": "code",
   "execution_count": null,
   "id": "6a0ee69f",
   "metadata": {},
   "outputs": [],
   "source": [
    "bars = bars.tz_convert(\"America/New_York\")"
   ]
  },
  {
   "cell_type": "code",
   "execution_count": null,
   "id": "2a8789af",
   "metadata": {},
   "outputs": [],
   "source": [
    "bars"
   ]
  },
  {
   "cell_type": "code",
   "execution_count": null,
   "id": "0ded5000",
   "metadata": {},
   "outputs": [],
   "source": [
    "bars.loc['2021-04-01 05:02:00-04:00']"
   ]
  },
  {
   "cell_type": "markdown",
   "id": "feb885e1",
   "metadata": {},
   "source": [
    "### multi symbol bars"
   ]
  },
  {
   "cell_type": "code",
   "execution_count": null,
   "id": "726d748b",
   "metadata": {},
   "outputs": [],
   "source": [
    "bars = stock_client.get_stock_bars(\n",
    "    CryptoBarsRequest(\n",
    "        start=start,\n",
    "        end=end,\n",
    "        timeframe=TimeFrame(1, TimeFrameUnit.Minute),\n",
    "        symbol_or_symbols=[\"aapl\", \"ibm\"])).df"
   ]
  },
  {
   "cell_type": "code",
   "execution_count": null,
   "id": "96baabec",
   "metadata": {},
   "outputs": [],
   "source": [
    "bars"
   ]
  },
  {
   "cell_type": "code",
   "execution_count": null,
   "id": "ccbca834",
   "metadata": {},
   "outputs": [],
   "source": [
    "bars.rename(columns={\"vwap\": \"average\"}, inplace=True)\n",
    "bars.rename(columns={\"trade_count\": \"count\"}, inplace=True)\n",
    "bars[\"vwap\"] = np.NaN\n",
    "\n",
    "bars"
   ]
  }
 ],
 "metadata": {
  "kernelspec": {
   "display_name": "venv",
   "language": "python",
   "name": "venv"
  },
  "language_info": {
   "codemirror_mode": {
    "name": "ipython",
    "version": 3
   },
   "file_extension": ".py",
   "mimetype": "text/x-python",
   "name": "python",
   "nbconvert_exporter": "python",
   "pygments_lexer": "ipython3"
  }
 },
 "nbformat": 4,
 "nbformat_minor": 5
}
