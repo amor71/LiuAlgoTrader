{
 "cells": [
  {
   "cell_type": "code",
   "execution_count": null,
   "id": "edce045b",
   "metadata": {},
   "outputs": [],
   "source": [
    "import pandas as pd\n",
    "import holidays\n",
    "from datetime import date, datetime,timedelta\n",
    "from pandas.tseries.holiday import USFederalHolidayCalendar"
   ]
  },
  {
   "cell_type": "code",
   "execution_count": null,
   "id": "9ca1ccf4",
   "metadata": {},
   "outputs": [],
   "source": [
    "us_holidays = holidays.UnitedStates()\n",
    "date(2015, 1, 1) in us_holidays"
   ]
  },
  {
   "cell_type": "code",
   "execution_count": null,
   "id": "ee6237b0",
   "metadata": {},
   "outputs": [],
   "source": [
    "for date, name in sorted(holidays.US(years=[2014, 2015]).items()):\n",
    "    print(date, name)"
   ]
  },
  {
   "cell_type": "code",
   "execution_count": null,
   "id": "5eb1ece5",
   "metadata": {},
   "outputs": [],
   "source": [
    "holidays_this_year = [str(date) for date, _ in sorted(holidays.US(years=[date.today().year, date.today().year-1]).items())]\n",
    "holidays_this_year"
   ]
  },
  {
   "cell_type": "code",
   "execution_count": null,
   "id": "75e86cbb",
   "metadata": {},
   "outputs": [],
   "source": [
    "import datetime as dt\n",
    "\n",
    "from pandas.tseries.holiday import AbstractHolidayCalendar, Holiday, nearest_workday, \\\n",
    "    USMartinLutherKingJr, USPresidentsDay, GoodFriday, USMemorialDay, \\\n",
    "    USLaborDay, USThanksgivingDay\n",
    "\n",
    "\n",
    "class USTradingCalendar(AbstractHolidayCalendar):\n",
    "    rules = [\n",
    "        Holiday('NewYearsDay', month=1, day=1, observance=nearest_workday),\n",
    "        USMartinLutherKingJr,\n",
    "        USPresidentsDay,\n",
    "        GoodFriday,\n",
    "        USMemorialDay,\n",
    "        Holiday('USIndependenceDay', month=7, day=4, observance=nearest_workday),\n",
    "        USLaborDay,\n",
    "        USThanksgivingDay,\n",
    "        Holiday('Christmas', month=12, day=25, observance=nearest_workday)\n",
    "    ]\n",
    "\n",
    "\n",
    "def get_trading_close_holidays(year):\n",
    "    inst = USTradingCalendar()\n",
    "\n",
    "    return inst.holidays(dt.datetime(year-1, 12, 31), dt.datetime(year, 12, 31))\n",
    "\n"
   ]
  },
  {
   "cell_type": "code",
   "execution_count": null,
   "id": "25f1a46d",
   "metadata": {},
   "outputs": [],
   "source": [
    "get_trading_close_holidays(2021)"
   ]
  },
  {
   "cell_type": "code",
   "execution_count": null,
   "id": "3753b3e3",
   "metadata": {},
   "outputs": [],
   "source": [
    "# Set the timestamp object in Pandas\n",
    "timestamp = datetime.today()-timedelta(days=1)\n",
    "\n",
    "# Display the Timestamp\n",
    "print(\"Timestamp...\\n\",timestamp)\n",
    "\n",
    "# Create the CustomBusinessDay Offset\n",
    "# CustomBusinessDay is the DateOffset subclass representing custom business days excluding holidays\n",
    "# Weekmask of valid business days\n",
    "cbdOffset = pd.tseries.offsets.CustomBusinessDay(n = -200, holidays=holidays_this_year)\n",
    "\n",
    "# Display the CustomBusinessDay Offset\n",
    "print(\"\\nCustomBusinessDay Offset...\\n\",cbdOffset)\n",
    "\n",
    "# Add the offset to the Timestamp and display the Updated Timestamp\n",
    "print(\"\\nUpdated Timestamp...\\n\",timestamp + cbdOffset)"
   ]
  },
  {
   "cell_type": "code",
   "execution_count": null,
   "id": "59e51544",
   "metadata": {},
   "outputs": [],
   "source": [
    "cal = USFederalHolidayCalendar()\n",
    "holidays = cal.holidays('2021-01-01', '2021-12-23')\n",
    "holidays"
   ]
  },
  {
   "cell_type": "code",
   "execution_count": null,
   "id": "7e1fe475",
   "metadata": {},
   "outputs": [],
   "source": [
    "import pandas_market_calendars as mcal\n",
    "\n",
    "# Create a calendar\n",
    "nyse = mcal.get_calendar('NYSE')\n",
    "\n",
    "# Show available calendars\n",
    "print(mcal.get_calendar_names())"
   ]
  },
  {
   "cell_type": "code",
   "execution_count": null,
   "id": "6576f7b9",
   "metadata": {},
   "outputs": [],
   "source": [
    "h = nyse.holidays()\n",
    "cbdOffset = pd.tseries.offsets.CustomBusinessDay(n = -40, holidays=h.holidays)\n",
    "datetime.today() + cbdOffset"
   ]
  }
 ],
 "metadata": {
  "kernelspec": {
   "display_name": "Python 3 (ipykernel)",
   "language": "python",
   "name": "python3"
  },
  "language_info": {
   "codemirror_mode": {
    "name": "ipython",
    "version": 3
   },
   "file_extension": ".py",
   "mimetype": "text/x-python",
   "name": "python",
   "nbconvert_exporter": "python",
   "pygments_lexer": "ipython3",
   "version": "3.9.0"
  }
 },
 "nbformat": 4,
 "nbformat_minor": 5
}
