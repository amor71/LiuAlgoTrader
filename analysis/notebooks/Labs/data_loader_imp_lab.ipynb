{
 "cells": [
  {
   "cell_type": "markdown",
   "id": "0407028b",
   "metadata": {},
   "source": [
    "# Breaking daily ranges"
   ]
  },
  {
   "cell_type": "code",
   "execution_count": null,
   "id": "53099901",
   "metadata": {},
   "outputs": [],
   "source": [
    "import pandas as pd\n",
    "from datetime import timedelta, date"
   ]
  },
  {
   "cell_type": "code",
   "execution_count": null,
   "id": "f5f194e0",
   "metadata": {},
   "outputs": [],
   "source": [
    "start_date = date(year=2021, month=9, day=1)\n",
    "end_date = date(year=2021, month=11, day=1)"
   ]
  },
  {
   "cell_type": "code",
   "execution_count": null,
   "id": "b319b5af",
   "metadata": {},
   "outputs": [],
   "source": [
    "d1=pd.date_range(start_date, end_date, freq=\"W-FRI\")\n",
    "d1"
   ]
  },
  {
   "cell_type": "code",
   "execution_count": null,
   "id": "da34e580",
   "metadata": {},
   "outputs": [],
   "source": [
    "d2=pd.date_range(start_date, end_date, freq=\"W-MON\")\n",
    "d2"
   ]
  },
  {
   "cell_type": "code",
   "execution_count": null,
   "id": "ea94a920",
   "metadata": {},
   "outputs": [],
   "source": [
    "ranges=[]\n",
    "ranges.append((pd.Timestamp(start_date), d1[0]))\n",
    "for s,e in zip(d2[:-1], d1[1:]):\n",
    "    ranges.append((s,e))\n",
    "ranges.append((d2[-1], pd.Timestamp(end_date)))\n",
    "ranges"
   ]
  },
  {
   "cell_type": "code",
   "execution_count": null,
   "id": "6f5daac8",
   "metadata": {},
   "outputs": [],
   "source": [
    "import pandas as pd\n",
    "from datetime import date, timedelta\n",
    "from itertools import zip_longest\n",
    "\n",
    "start_date = date(year=2021, month=8, day=30)\n",
    "end_date = date(year=2021, month=11, day=8)\n",
    "\n",
    "d1=pd.date_range(start_date, end_date, freq=\"W-FRI\")\n",
    "d2=pd.date_range(start_date, end_date, freq=\"W-MON\")\n",
    "\n",
    "ranges=[]\n",
    "\n",
    "ranges.append((pd.Timestamp(start_date), d1[0]))\n",
    "for s,e in zip(d2[:-1], d1[1:]):\n",
    "    ranges.append((s,e))\n",
    "ranges.append((d2[-1], pd.Timestamp(end_date)))\n",
    "\n",
    "#In this case len(d1) != len(d2) --> zip doesn't work\n",
    "\n",
    "ranges_corected = []\n",
    "  \n",
    "ranges_corected.append((pd.Timestamp(start_date), d1[0]))\n",
    "for i, j in zip_longest(d2[:-1], d1[1:]):\n",
    "    ranges_corected.append((i, j))\n",
    "    \n",
    "if start_date.weekday() == 5:\n",
    "    start_date = start_date + timedelta(days=2)\n",
    "      \n",
    "elif start_date.weekday() == 6:\n",
    "    start_date = start_date + timedelta(days=1)\n",
    "    \n",
    "if start_date.weekday() == 0: \n",
    "    l1,l2 = zip(*ranges_corected)\n",
    "    ranges_corected = list(zip(l1[1:],l2))\n",
    "  \n",
    "elif start_date.weekday() == 4:\n",
    "    l1,l2 = zip(*ranges_corected)\n",
    "    t = (l2[0] + timedelta(days=1),)\n",
    "    l2 = t + l2[1:]\n",
    "    ranges_corected = list(zip(l1,l2))\n",
    "    ranges_corected = ranges_corected[:-1]\n",
    "  \n",
    "if end_date.weekday() == 0:\n",
    "    end_date = end_date + timedelta(days=1)\n",
    "  \n",
    "ranges_corected.append((d2[-1], pd.Timestamp(end_date)))\n",
    "ranges_corected"
   ]
  },
  {
   "cell_type": "code",
   "execution_count": null,
   "id": "4e5d721b",
   "metadata": {},
   "outputs": [],
   "source": [
    "import pandas as pd\n",
    "from datetime import date\n",
    "from itertools import zip_longest\n",
    "\n",
    "start_date = date(year=2021, month=9, day=7)\n",
    "end_date = date(year=2021, month=11, day=8)\n",
    "\n",
    "len(pd.bdate_range(start_date, end_date)\n",
    "d1=pd.date_range(start_date, end_date, freq=\"W-MON\", closed=\"right\")\n",
    "d2=pd.date_range(start_date, end_date, freq=\"W-SAT\", closed=\"right\")\n",
    "\n",
    "ranges=[]\n",
    "\n",
    "#ranges.append((pd.Timestamp(start_date), d1[0]))\n",
    "for s,e in zip(d1, d2):\n",
    "    ranges.append((s,e))\n",
    "#ranges.append((d2[-1], pd.Timestamp(end_date)))\n",
    "\n",
    "#if ranges[-1][0] == ranges[-1][1]:\n",
    "#    ranges[-1] = (ranges[-1][0], ranges[-1][0] + timedelta(days=1))\n",
    " \n",
    "#if ranges[0][0] == ranges[0][1]:\n",
    "#    ranges[0] = (ranges[0][0], ranges[0][0] + timedelta(days=1))\n",
    "    \n",
    "d1, d2, ranges"
   ]
  },
  {
   "cell_type": "code",
   "execution_count": null,
   "id": "7a3acd61",
   "metadata": {},
   "outputs": [],
   "source": [
    "import pandas as pd\n",
    "from datetime import date\n",
    "from math import ceil\n",
    "\n",
    "start_date = date(year=2021, month=9, day=7)\n",
    "end_date = date(year=2021, month=11, day=8)\n",
    "\n",
    "days = len(pd.bdate_range(start_date, end_date))\n",
    "total_data_points = days * 390 # can make more accurate later by looking at time-scale\n",
    "max_data_points_per_load = 5000 # alapca limit 5,000, polygon limit 10,000\n",
    "total_periods = ceil(total_data_points / max_data_points_per_load) +1\n",
    "\n",
    "\n",
    "ranges = pd.date_range(start_date, end_date, periods=total_periods)\n",
    "ranges"
   ]
  },
  {
   "cell_type": "code",
   "execution_count": null,
   "id": "3fcd9372",
   "metadata": {},
   "outputs": [],
   "source": []
  },
  {
   "cell_type": "markdown",
   "id": "89b09b48",
   "metadata": {},
   "source": [
    "# Breaking hourly ranges"
   ]
  },
  {
   "cell_type": "code",
   "execution_count": null,
   "id": "86fa0719",
   "metadata": {},
   "outputs": [],
   "source": [
    "from liualgotrader.common.data_loader import DataLoader, m_and_a_data\n",
    "from liualgotrader.common.types import TimeScale\n",
    "from datetime import datetime\n",
    "from liualgotrader.common.market_data import get_trading_day"
   ]
  },
  {
   "cell_type": "code",
   "execution_count": null,
   "id": "9ce7428c",
   "metadata": {},
   "outputs": [],
   "source": [
    "dl = DataLoader(scale=TimeScale.day)"
   ]
  },
  {
   "cell_type": "code",
   "execution_count": null,
   "id": "39507148",
   "metadata": {},
   "outputs": [],
   "source": [
    "d = datetime(year=2021, month=1, day=26, hour=9, minute=30)"
   ]
  },
  {
   "cell_type": "code",
   "execution_count": null,
   "id": "f84af297",
   "metadata": {},
   "outputs": [],
   "source": [
    "str(d)"
   ]
  },
  {
   "cell_type": "code",
   "execution_count": null,
   "id": "9b5bae65",
   "metadata": {},
   "outputs": [],
   "source": [
    "dl[\"VTRS\"].close[-200:d]"
   ]
  },
  {
   "cell_type": "code",
   "execution_count": null,
   "id": "b3831199",
   "metadata": {},
   "outputs": [],
   "source": [
    "dl2 = DataLoader(scale=TimeScale.day)\n",
    "d = datetime(year=2021, month=1, day=26, hour=9, minute=30)\n",
    "    \n",
    "start = await get_trading_day(now=d.date(), offset=200)\n",
    "\n",
    "dl2.pre_fetch(\n",
    "    symbols=[\"LUMN\"], end=d.date(), start=start\n",
    ")"
   ]
  },
  {
   "cell_type": "code",
   "execution_count": null,
   "id": "270473c6",
   "metadata": {},
   "outputs": [],
   "source": [
    "start"
   ]
  },
  {
   "cell_type": "code",
   "execution_count": null,
   "id": "1635face",
   "metadata": {},
   "outputs": [],
   "source": [
    "len(dl2[\"LUMN\"].close[-200:d])"
   ]
  },
  {
   "cell_type": "code",
   "execution_count": null,
   "id": "a256e23c",
   "metadata": {},
   "outputs": [],
   "source": [
    "from liualgotrader.common.market_data import sp500_historical_constituents"
   ]
  },
  {
   "cell_type": "code",
   "execution_count": null,
   "id": "2fe6e26b",
   "metadata": {},
   "outputs": [],
   "source": [
    "symbols = await sp500_historical_constituents('2021-01-07')"
   ]
  },
  {
   "cell_type": "code",
   "execution_count": null,
   "id": "9f8ec547",
   "metadata": {},
   "outputs": [],
   "source": [
    "len(symbols)"
   ]
  },
  {
   "cell_type": "code",
   "execution_count": null,
   "id": "ffebab9e",
   "metadata": {},
   "outputs": [],
   "source": [
    "dl3 = DataLoader(scale=TimeScale.day)"
   ]
  },
  {
   "cell_type": "code",
   "execution_count": null,
   "id": "40a88622",
   "metadata": {},
   "outputs": [],
   "source": [
    "d = datetime(year=2021, month=1, day=7)\n",
    "d"
   ]
  },
  {
   "cell_type": "code",
   "execution_count": null,
   "id": "30ad38be",
   "metadata": {},
   "outputs": [],
   "source": [
    "start = await get_trading_day(now=d.date(), offset=200)"
   ]
  },
  {
   "cell_type": "code",
   "execution_count": null,
   "id": "ca7662d1",
   "metadata": {},
   "outputs": [],
   "source": [
    "m_and_a_data"
   ]
  },
  {
   "cell_type": "code",
   "execution_count": null,
   "id": "35ee793e",
   "metadata": {},
   "outputs": [],
   "source": [
    "dl3.pre_fetch(\n",
    "    symbols=symbols, end=d.date(), start=start\n",
    ")"
   ]
  },
  {
   "cell_type": "code",
   "execution_count": null,
   "id": "16bb2889",
   "metadata": {},
   "outputs": [],
   "source": [
    "print([x for x in dl3.keys() if x not in symbols])"
   ]
  },
  {
   "cell_type": "code",
   "execution_count": null,
   "id": "5c6331d7",
   "metadata": {},
   "outputs": [],
   "source": [
    "for symbol in symbols:\n",
    "    l = len(dl3[symbol].close.to_list())\n",
    "    if l < 200:\n",
    "        print(symbol, l)"
   ]
  },
  {
   "cell_type": "code",
   "execution_count": null,
   "id": "246b5a3b",
   "metadata": {},
   "outputs": [],
   "source": [
    "len(dl3[\"VTRS\"][-200:-1])"
   ]
  },
  {
   "cell_type": "code",
   "execution_count": null,
   "id": "5dd25493",
   "metadata": {},
   "outputs": [],
   "source": [
    "m_and_a_data"
   ]
  },
  {
   "cell_type": "code",
   "execution_count": null,
   "id": "d38d5913",
   "metadata": {},
   "outputs": [],
   "source": [
    "end=datetime(year=2020,month=3, day=24)\n",
    "start=datetime(year=2020,month=11,day=17)\n",
    "adjusted_data = m_and_a_data.loc[\n",
    "            (\n",
    "                end.replace(hour=0, minute=0, second=0, microsecond=0, tzinfo=None)\n",
    "                <= m_and_a_data.index\n",
    "            )\n",
    "            \n",
    "            & (m_and_a_data.to_symbol == \"VTRS\")\n",
    "        ]\n",
    "adjusted_data"
   ]
  },
  {
   "cell_type": "code",
   "execution_count": null,
   "id": "30a13f2c",
   "metadata": {},
   "outputs": [],
   "source": [
    "dl4 = DataLoader(scale=TimeScale.day)"
   ]
  },
  {
   "cell_type": "code",
   "execution_count": null,
   "id": "e5aa29d6",
   "metadata": {},
   "outputs": [],
   "source": [
    "dl4[\"AAPL\"][-10:'2022-03-20']"
   ]
  },
  {
   "cell_type": "code",
   "execution_count": null,
   "id": "96e2dd67",
   "metadata": {},
   "outputs": [],
   "source": [
    "dl4[\"AAPL\"][-20:]"
   ]
  },
  {
   "cell_type": "code",
   "execution_count": null,
   "id": "6ba30228",
   "metadata": {},
   "outputs": [],
   "source": [
    "s = dl4[\"AAPL\"][-200:'2022-08-29'].close"
   ]
  },
  {
   "cell_type": "code",
   "execution_count": null,
   "id": "22cfe13c",
   "metadata": {},
   "outputs": [],
   "source": [
    "l = [int(x) for x in s.to_list()]"
   ]
  },
  {
   "cell_type": "code",
   "execution_count": null,
   "id": "7e02151f",
   "metadata": {},
   "outputs": [],
   "source": [
    "b = bytes(l)"
   ]
  },
  {
   "cell_type": "code",
   "execution_count": null,
   "id": "cfbf7706",
   "metadata": {},
   "outputs": [],
   "source": [
    "len(b)"
   ]
  },
  {
   "cell_type": "code",
   "execution_count": null,
   "id": "884a59da",
   "metadata": {},
   "outputs": [],
   "source": [
    "\n"
   ]
  }
 ],
 "metadata": {
  "kernelspec": {
   "display_name": "Python 3 (ipykernel)",
   "language": "python",
   "name": "python3"
  },
  "language_info": {
   "codemirror_mode": {
    "name": "ipython",
    "version": 3
   },
   "file_extension": ".py",
   "mimetype": "text/x-python",
   "name": "python",
   "nbconvert_exporter": "python",
   "pygments_lexer": "ipython3",
   "version": "3.10.4"
  }
 },
 "nbformat": 4,
 "nbformat_minor": 5
}
