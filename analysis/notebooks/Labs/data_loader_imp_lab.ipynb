{
 "cells": [
  {
   "cell_type": "markdown",
   "id": "0407028b",
   "metadata": {},
   "source": [
    "# Breaking daily ranges"
   ]
  },
  {
   "cell_type": "code",
   "execution_count": null,
   "id": "53099901",
   "metadata": {},
   "outputs": [],
   "source": [
    "import pandas as pd\n",
    "from datetime import timedelta, date"
   ]
  },
  {
   "cell_type": "code",
   "execution_count": null,
   "id": "f5f194e0",
   "metadata": {},
   "outputs": [],
   "source": [
    "start_date = date(year=2021, month=9, day=1)\n",
    "end_date = date(year=2021, month=11, day=1)"
   ]
  },
  {
   "cell_type": "code",
   "execution_count": null,
   "id": "b319b5af",
   "metadata": {},
   "outputs": [],
   "source": [
    "d1=pd.date_range(start_date, end_date, freq=\"W-FRI\")\n",
    "d1"
   ]
  },
  {
   "cell_type": "code",
   "execution_count": null,
   "id": "da34e580",
   "metadata": {},
   "outputs": [],
   "source": [
    "d2=pd.date_range(start_date, end_date, freq=\"W-MON\")\n",
    "d2"
   ]
  },
  {
   "cell_type": "code",
   "execution_count": null,
   "id": "ea94a920",
   "metadata": {},
   "outputs": [],
   "source": [
    "ranges=[]\n",
    "ranges.append((pd.Timestamp(start_date), d1[0]))\n",
    "for s,e in zip(d2[:-1], d1[1:]):\n",
    "    ranges.append((s,e))\n",
    "ranges.append((d2[-1], pd.Timestamp(end_date)))\n",
    "ranges"
   ]
  },
  {
   "cell_type": "code",
   "execution_count": null,
   "id": "6f5daac8",
   "metadata": {},
   "outputs": [],
   "source": [
    "import pandas as pd\n",
    "from datetime import date, timedelta\n",
    "from itertools import zip_longest\n",
    "\n",
    "start_date = date(year=2021, month=8, day=30)\n",
    "end_date = date(year=2021, month=11, day=8)\n",
    "\n",
    "d1=pd.date_range(start_date, end_date, freq=\"W-FRI\")\n",
    "d2=pd.date_range(start_date, end_date, freq=\"W-MON\")\n",
    "\n",
    "ranges=[]\n",
    "\n",
    "ranges.append((pd.Timestamp(start_date), d1[0]))\n",
    "for s,e in zip(d2[:-1], d1[1:]):\n",
    "    ranges.append((s,e))\n",
    "ranges.append((d2[-1], pd.Timestamp(end_date)))\n",
    "\n",
    "#In this case len(d1) != len(d2) --> zip doesn't work\n",
    "\n",
    "ranges_corected = []\n",
    "  \n",
    "ranges_corected.append((pd.Timestamp(start_date), d1[0]))\n",
    "for i, j in zip_longest(d2[:-1], d1[1:]):\n",
    "    ranges_corected.append((i, j))\n",
    "    \n",
    "if start_date.weekday() == 5:\n",
    "    start_date = start_date + timedelta(days=2)\n",
    "      \n",
    "elif start_date.weekday() == 6:\n",
    "    start_date = start_date + timedelta(days=1)\n",
    "    \n",
    "if start_date.weekday() == 0: \n",
    "    l1,l2 = zip(*ranges_corected)\n",
    "    ranges_corected = list(zip(l1[1:],l2))\n",
    "  \n",
    "elif start_date.weekday() == 4:\n",
    "    l1,l2 = zip(*ranges_corected)\n",
    "    t = (l2[0] + timedelta(days=1),)\n",
    "    l2 = t + l2[1:]\n",
    "    ranges_corected = list(zip(l1,l2))\n",
    "    ranges_corected = ranges_corected[:-1]\n",
    "  \n",
    "if end_date.weekday() == 0:\n",
    "    end_date = end_date + timedelta(days=1)\n",
    "  \n",
    "ranges_corected.append((d2[-1], pd.Timestamp(end_date)))\n",
    "ranges_corected"
   ]
  },
  {
   "cell_type": "code",
   "execution_count": null,
   "id": "4e5d721b",
   "metadata": {},
   "outputs": [],
   "source": [
    "import pandas as pd\n",
    "from datetime import date\n",
    "from itertools import zip_longest\n",
    "\n",
    "start_date = date(year=2021, month=9, day=7)\n",
    "end_date = date(year=2021, month=11, day=8)\n",
    "\n",
    "len(pd.bdate_range(start_date, end_date)\n",
    "d1=pd.date_range(start_date, end_date, freq=\"W-MON\", closed=\"right\")\n",
    "d2=pd.date_range(start_date, end_date, freq=\"W-SAT\", closed=\"right\")\n",
    "\n",
    "ranges=[]\n",
    "\n",
    "#ranges.append((pd.Timestamp(start_date), d1[0]))\n",
    "for s,e in zip(d1, d2):\n",
    "    ranges.append((s,e))\n",
    "#ranges.append((d2[-1], pd.Timestamp(end_date)))\n",
    "\n",
    "#if ranges[-1][0] == ranges[-1][1]:\n",
    "#    ranges[-1] = (ranges[-1][0], ranges[-1][0] + timedelta(days=1))\n",
    " \n",
    "#if ranges[0][0] == ranges[0][1]:\n",
    "#    ranges[0] = (ranges[0][0], ranges[0][0] + timedelta(days=1))\n",
    "    \n",
    "d1, d2, ranges"
   ]
  },
  {
   "cell_type": "code",
   "execution_count": null,
   "id": "7a3acd61",
   "metadata": {},
   "outputs": [],
   "source": [
    "import pandas as pd\n",
    "from datetime import date\n",
    "from math import ceil\n",
    "\n",
    "start_date = date(year=2021, month=9, day=7)\n",
    "end_date = date(year=2021, month=11, day=8)\n",
    "\n",
    "days = len(pd.bdate_range(start_date, end_date))\n",
    "total_data_points = days * 390 # can make more accurate later by looking at time-scale\n",
    "max_data_points_per_load = 5000 # alapca limit 5,000, polygon limit 10,000\n",
    "total_periods = ceil(total_data_points / max_data_points_per_load) +1\n",
    "\n",
    "\n",
    "ranges = pd.date_range(start_date, end_date, periods=total_periods)\n",
    "ranges"
   ]
  },
  {
   "cell_type": "code",
   "execution_count": null,
   "id": "3fcd9372",
   "metadata": {},
   "outputs": [],
   "source": []
  },
  {
   "cell_type": "markdown",
   "id": "89b09b48",
   "metadata": {},
   "source": [
    "# Breaking hourly ranges"
   ]
  }
 ],
 "metadata": {
  "kernelspec": {
   "display_name": "Python 3 (ipykernel)",
   "language": "python",
   "name": "python3"
  },
  "language_info": {
   "codemirror_mode": {
    "name": "ipython",
    "version": 3
   },
   "file_extension": ".py",
   "mimetype": "text/x-python",
   "name": "python",
   "nbconvert_exporter": "python",
   "pygments_lexer": "ipython3",
   "version": "3.9.0"
  }
 },
 "nbformat": 4,
 "nbformat_minor": 5
}
