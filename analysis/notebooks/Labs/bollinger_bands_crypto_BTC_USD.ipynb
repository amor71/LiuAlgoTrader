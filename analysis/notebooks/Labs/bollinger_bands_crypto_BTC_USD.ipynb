{
 "cells": [
  {
   "cell_type": "markdown",
   "metadata": {},
   "source": [
    "## Select crypto symbol and date range"
   ]
  },
  {
   "cell_type": "code",
   "execution_count": null,
   "metadata": {},
   "outputs": [],
   "source": [
    "crypto_ticker = 'X:BTCUSD'\n",
    "start_date = \"2020-12-11\"\n",
    "end_date = \"2021-10-5\""
   ]
  },
  {
   "cell_type": "markdown",
   "metadata": {},
   "source": [
    "#### Imports"
   ]
  },
  {
   "cell_type": "code",
   "execution_count": null,
   "metadata": {},
   "outputs": [],
   "source": [
    "from liualgotrader.common.data_loader import DataLoader\n",
    "from liualgotrader.common.types import DataConnectorType, TimeScale\n",
    "import matplotlib.pyplot as plt\n",
    "from talib import BBANDS, MA_Type\n",
    "from liualgotrader.fincalcs.resample import resample, ResampleRangeType\n",
    "%matplotlib inline"
   ]
  },
  {
   "cell_type": "markdown",
   "metadata": {},
   "source": [
    "#### Load symbol data"
   ]
  },
  {
   "cell_type": "code",
   "execution_count": null,
   "metadata": {},
   "outputs": [],
   "source": [
    "dl = DataLoader(scale = TimeScale.day, connector = DataConnectorType.polygon)"
   ]
  },
  {
   "cell_type": "code",
   "execution_count": null,
   "metadata": {},
   "outputs": [],
   "source": [
    "df = dl[crypto_ticker][start_date:end_date]\n",
    "df"
   ]
  },
  {
   "cell_type": "code",
   "execution_count": null,
   "metadata": {},
   "outputs": [],
   "source": [
    "bband = BBANDS(\n",
    "    df.close,\n",
    "    timeperiod=7,\n",
    "    nbdevdn=1,\n",
    "    nbdevup=1,\n",
    "    matype=MA_Type.SMA,\n",
    ")"
   ]
  },
  {
   "cell_type": "code",
   "execution_count": null,
   "metadata": {},
   "outputs": [],
   "source": [
    "plt.plot(bband[0], c=\"red\")\n",
    "plt.plot(bband[1], c=\"blue\")\n",
    "plt.plot(bband[2], c=\"green\")\n",
    "plt.xticks(rotation=45)\n",
    "plt.show()"
   ]
  },
  {
   "cell_type": "code",
   "execution_count": null,
   "metadata": {},
   "outputs": [],
   "source": [
    "ohlc_data = df\n",
    "\n",
    "trace1 = {\n",
    "    \"x\": ohlc_data.index,\n",
    "    \"open\": ohlc_data.open,\n",
    "    \"high\": ohlc_data.high,\n",
    "    \"low\": ohlc_data.low,\n",
    "    \"close\": ohlc_data.close,\n",
    "    \"type\": \"candlestick\",\n",
    "    \"name\": f\"{symbol} bars\",\n",
    "    \"yaxis\": \"y2\",\n",
    "    \"showlegend\": True,\n",
    "}\n",
    "trace2 = [\n",
    "    {\n",
    "        \"x\": bband[indx].index,\n",
    "        \"y\": bband[indx],\n",
    "        \"type\": \"scatter\",\n",
    "        \"mode\": \"lines\",\n",
    "        \"line\": {\"width\": 2, \"color\": \"red\" if indx==0 else \"orange\" if indx==1 else \"green\"},\n",
    "        \"yaxis\": \"y2\",\n",
    "        \"name\": \"upper\" if indx ==0 else \"middle\" if indx ==1 else \"low\",\n",
    "\n",
    "        \"showlegend\": True,\n",
    "    }\n",
    "    for indx in range(0, 3)\n",
    "]\n",
    "fig = dict(data=[trace1], layout=dict())\n",
    "\n",
    "fig[\"layout\"][\"plot_bgcolor\"] = \"rgb(200, 200, 200)\"\n",
    "fig[\"layout\"][\"xaxis\"] = dict(rangeselector=dict(visible=True))\n",
    "fig[\"layout\"][\"yaxis\"] = dict(domain=[0, 0.2], showticklabels=False)\n",
    "fig[\"layout\"][\"yaxis2\"] = dict(domain=[0.2, 0.8])\n",
    "fig[\"layout\"][\"legend\"] = dict(\n",
    "    orientation=\"h\",\n",
    "    y=0.95,\n",
    "    x=0.3,\n",
    "    yanchor=\"bottom\",\n",
    ")\n",
    "fig[\"layout\"][\"margin\"] = dict(t=40, b=40, r=40, l=40)\n",
    "fig[\"data\"] += trace2\n",
    "\n",
    "rangeselector = dict(\n",
    "    # visibe = True,\n",
    "    x=0,\n",
    "    y=0.9,\n",
    "    bgcolor=\"rgba(150, 200, 250, 0.4)\",\n",
    "    font=dict(size=13),\n",
    "    buttons=list(\n",
    "        [\n",
    "            dict(count=1, label=\"1 yr\", step=\"year\"),\n",
    "            dict(count=3, label=\"3 mo\", step=\"month\", stepmode=\"backward\"),\n",
    "            dict(count=1, label=\"1 mo\", step=\"month\", stepmode=\"backward\"),\n",
    "            dict(count=7, label=\"1 wk\", step=\"day\", stepmode=\"backward\"),\n",
    "            dict(step=\"all\"),\n",
    "        ]\n",
    "    ),\n",
    ")\n",
    "\n",
    "fig[\"layout\"][\"xaxis\"][\"rangeselector\"] = rangeselector\n",
    "\n",
    "colors = []\n",
    "\n",
    "for i in range(len(ohlc_data.close)):\n",
    "    if i != 0:\n",
    "        if ohlc_data.close[i] > ohlc_data.close[i - 1]:\n",
    "            colors.append(\"green\")\n",
    "        else:\n",
    "            colors.append(\"red\")\n",
    "    else:\n",
    "        colors.append(\"red\")\n",
    "\n",
    "fig[\"data\"].append(\n",
    "    dict(\n",
    "        x=ohlc_data.index,\n",
    "        y=ohlc_data.volume,\n",
    "        marker=dict(color=colors),\n",
    "        type=\"bar\",\n",
    "        yaxis=\"y\",\n",
    "        name=\"Volume\",\n",
    "        showlegend=False,\n",
    "    )\n",
    ")\n",
    "\n",
    "f = go.Figure(data=fig[\"data\"], layout=fig[\"layout\"])\n",
    "f.show()"
   ]
  }
 ],
 "metadata": {
  "kernelspec": {
   "display_name": "Python 3 (ipykernel)",
   "language": "python",
   "name": "python3"
  },
  "language_info": {
   "codemirror_mode": {
    "name": "ipython",
    "version": 3
   },
   "file_extension": ".py",
   "mimetype": "text/x-python",
   "name": "python",
   "nbconvert_exporter": "python",
   "pygments_lexer": "ipython3",
   "version": "3.9.0"
  }
 },
 "nbformat": 4,
 "nbformat_minor": 4
}
