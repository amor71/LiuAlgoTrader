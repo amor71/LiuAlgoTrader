{
 "cells": [
  {
   "cell_type": "markdown",
   "metadata": {},
   "source": [
    "## Take Action: Select Optimizer run for analysis"
   ]
  },
  {
   "cell_type": "code",
   "execution_count": null,
   "metadata": {},
   "outputs": [],
   "source": [
    "%env DATA_CONNECTOR=alpaca\n",
    "%env LIU_BROKER=alpaca\n",
    "optimizer_run_id = \"1f20dd7a-f592-4e08-ae7a-8d08009cd2ae\""
   ]
  },
  {
   "cell_type": "markdown",
   "metadata": {},
   "source": [
    "### Imports"
   ]
  },
  {
   "cell_type": "code",
   "execution_count": null,
   "metadata": {},
   "outputs": [],
   "source": [
    "import matplotlib.pyplot as plt\n",
    "import empyrical as ep\n",
    "import math\n",
    "import pandas as pd\n",
    "import numpy as np\n",
    "import quantstats as qs\n",
    "from IPython.display import HTML, display, Markdown\n",
    "from liualgotrader.analytics import analysis\n",
    "from liualgotrader.common import config\n",
    "import matplotlib.ticker as mtick\n",
    "%matplotlib inline"
   ]
  },
  {
   "cell_type": "markdown",
   "metadata": {},
   "source": [
    "### Load data details"
   ]
  },
  {
   "cell_type": "code",
   "execution_count": null,
   "metadata": {},
   "outputs": [],
   "source": [
    "hyperparameters = analysis.calc_hyperparameters_analysis(optimizer_run_id)"
   ]
  },
  {
   "cell_type": "code",
   "execution_count": null,
   "metadata": {},
   "outputs": [],
   "source": [
    "analysis = pd.DataFrame(columns=['profile_id'])\n",
    "analysis['profile_id'] = hyperparameters.index.levels[0]\n",
    "analysis['configurations'] = analysis['profile_id'].apply(\n",
    "    lambda x: hyperparameters[\n",
    "            hyperparameters.index.get_level_values(\"portfolio_id\") == x\n",
    "        ].configurations[-1]\n",
    ")\n",
    "analysis['sharpe'] = analysis['profile_id'].apply(\n",
    "    lambda x: qs.stats.sharpe(\n",
    "        returns=hyperparameters[\n",
    "            hyperparameters.index.get_level_values(\"portfolio_id\") == x\n",
    "        ].totals\n",
    "    )\n",
    ")\n",
    "analysis['volatility'] = analysis['profile_id'].apply(\n",
    "    lambda x: qs.stats.volatility(\n",
    "        returns=hyperparameters[\n",
    "            hyperparameters.index.get_level_values(\"portfolio_id\") == x\n",
    "        ].totals\n",
    "    )\n",
    ")\n",
    "analysis['total'] = analysis['profile_id'].apply(\n",
    "    lambda x: hyperparameters[\n",
    "            hyperparameters.index.get_level_values(\"portfolio_id\") == x\n",
    "        ].totals[-1]\n",
    ")\n",
    "\n"
   ]
  },
  {
   "cell_type": "code",
   "execution_count": null,
   "metadata": {},
   "outputs": [],
   "source": [
    "analysis.sort_values(by=\"total\")"
   ]
  },
  {
   "cell_type": "code",
   "execution_count": null,
   "metadata": {},
   "outputs": [],
   "source": [
    "analysis"
   ]
  }
 ],
 "metadata": {
  "kernelspec": {
   "display_name": "Python 3 (ipykernel)",
   "language": "python",
   "name": "python3"
  },
  "language_info": {
   "codemirror_mode": {
    "name": "ipython",
    "version": 3
   },
   "file_extension": ".py",
   "mimetype": "text/x-python",
   "name": "python",
   "nbconvert_exporter": "python",
   "pygments_lexer": "ipython3",
   "version": "3.9.0"
  }
 },
 "nbformat": 4,
 "nbformat_minor": 2
}
