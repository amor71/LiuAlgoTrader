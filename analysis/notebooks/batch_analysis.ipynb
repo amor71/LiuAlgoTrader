{
 "cells": [
  {
   "cell_type": "markdown",
   "metadata": {},
   "source": [
    "# Select batch-id for execution"
   ]
  },
  {
   "cell_type": "code",
   "execution_count": null,
   "metadata": {},
   "outputs": [],
   "source": [
    "batch_id = \"4e2ffdaa-1860-4713-bbde-3510d105f600\""
   ]
  },
  {
   "cell_type": "markdown",
   "metadata": {},
   "source": [
    "#### imports"
   ]
  },
  {
   "cell_type": "code",
   "execution_count": null,
   "metadata": {},
   "outputs": [],
   "source": [
    "import asyncio\n",
    "import json\n",
    "import math\n",
    "import sys\n",
    "from datetime import date, datetime, timedelta\n",
    "\n",
    "import alpaca_trade_api as tradeapi\n",
    "import iso8601\n",
    "import matplotlib.pyplot as plt\n",
    "import nest_asyncio\n",
    "import numpy as np\n",
    "import pandas as pd\n",
    "import pytz\n",
    "import requests\n",
    "from dateutil import parser\n",
    "from IPython.display import HTML, display, Markdown\n",
    "from liualgotrader.analytics.analysis import (\n",
    "    calc_batch_revenue,\n",
    "    count_trades,\n",
    "    load_trades_by_batch_id,\n",
    "    trades_analysis,\n",
    "    symbol_trade_analytics,\n",
    ")\n",
    "\n",
    "from liualgotrader.common import config\n",
    "from liualgotrader.common.market_data import (\n",
    "    get_historical_data_from_poylgon_for_symbols,\n",
    ")\n",
    "from pandas import DataFrame as df\n",
    "from pytz import timezone\n",
    "from talib import BBANDS, MACD, RSI\n",
    "from liualgotrader.common.data_loader import DataLoader \n",
    "%matplotlib inline\n",
    "\n",
    "nest_asyncio.apply()"
   ]
  },
  {
   "cell_type": "markdown",
   "metadata": {},
   "source": [
    "#### connect to Alpaca Markets"
   ]
  },
  {
   "cell_type": "code",
   "execution_count": null,
   "metadata": {},
   "outputs": [],
   "source": [
    "api = tradeapi.REST(base_url=\"https://api.alpaca.markets\")"
   ]
  },
  {
   "cell_type": "markdown",
   "metadata": {},
   "source": [
    "#### Load batch data"
   ]
  },
  {
   "cell_type": "code",
   "execution_count": null,
   "metadata": {},
   "outputs": [],
   "source": [
    "trades = load_trades_by_batch_id(batch_id)"
   ]
  },
  {
   "cell_type": "code",
   "execution_count": null,
   "metadata": {},
   "outputs": [],
   "source": [
    "trades"
   ]
  },
  {
   "cell_type": "code",
   "execution_count": null,
   "metadata": {},
   "outputs": [],
   "source": [
    "if trades.empty:\n",
    "    assert False, \"Empty batch. halting execution.\""
   ]
  },
  {
   "cell_type": "markdown",
   "metadata": {},
   "source": [
    "## Calculating batch performance"
   ]
  },
  {
   "cell_type": "code",
   "execution_count": null,
   "metadata": {},
   "outputs": [],
   "source": [
    "how_was_my_batch = trades_analysis(trades, batch_id)"
   ]
  },
  {
   "cell_type": "code",
   "execution_count": null,
   "metadata": {},
   "outputs": [],
   "source": [
    "pd.set_option(\"display.max_rows\", how_was_my_batch.shape[0] + 1)\n",
    "revenues = round(sum(how_was_my_batch[\"revenues\"]), 2)\n",
    "traded = len(how_was_my_batch)\n",
    "win_ratio = round(\n",
    "        1.0\n",
    "        * len(how_was_my_batch[how_was_my_batch.revenues >= 0])\n",
    "        / len(how_was_my_batch[how_was_my_batch.revenues < 0]),\n",
    "        2,\n",
    "    ) if len(how_was_my_batch[how_was_my_batch.revenues < 0]) else \"high!\"\n",
    "print(\n",
    "    f\"Total revenues=${revenues}\\nTotal traded:{traded} Win/Lose ration {win_ratio}\"\n",
    ")\n",
    "\n",
    "display(\n",
    "    Markdown(f\"{len(how_was_my_batch[how_was_my_batch.revenues >= 0])} **Winners**\")\n",
    ")\n",
    "display(how_was_my_batch[how_was_my_batch.revenues >= 0].sort_values('revenues'))\n",
    "display(Markdown(f\"{len(how_was_my_batch[how_was_my_batch.revenues < 0])} **Lossers**\"))\n",
    "display(how_was_my_batch[how_was_my_batch.revenues < 0].sort_values('revenues'))"
   ]
  },
  {
   "cell_type": "markdown",
   "metadata": {},
   "source": [
    "## Display trades in details"
   ]
  },
  {
   "cell_type": "code",
   "execution_count": null,
   "metadata": {},
   "outputs": [],
   "source": [
    "minute_history = DataLoader()\n",
    "for symbol in trades.symbol.unique():\n",
    "    symbol_df = trades.loc[trades[\"symbol\"] == symbol]\n",
    "    start_date = symbol_df[\"client_time\"].min()\n",
    "    start_date = start_date.replace(hour=9, minute=30)\n",
    "    end_date =  symbol_df[\"client_time\"].max().replace(hour=16, minute=0)\n",
    "    cool_down_date = start_date + timedelta(minutes=5)\n",
    "    symbol_data = minute_history[symbol][start_date:end_date]\n",
    "    minute_history_index = symbol_data.close.index.get_loc(\n",
    "        start_date, method=\"nearest\"\n",
    "    )\n",
    "    end_index = symbol_data.close.index.get_loc(\n",
    "        end_date, method=\"nearest\"\n",
    "    )\n",
    "    cool_minute_history_index = symbol_data[\"close\"].index.get_loc(\n",
    "        cool_down_date, method=\"nearest\"\n",
    "    )\n",
    "    open_price = symbol_data.close[cool_minute_history_index]\n",
    "    plt.plot(\n",
    "        symbol_data.close[minute_history_index:end_index].between_time(\n",
    "            \"9:30\", \"16:00\"\n",
    "        ),\n",
    "        label=symbol,\n",
    "    )\n",
    "    plt.xticks(rotation=45)\n",
    "\n",
    "    d, profit = symbol_trade_analytics(symbol_df, open_price, plt)\n",
    "    \n",
    "    print(f\"{symbol} analysis with profit {round(profit, 2)}\")\n",
    "    display(HTML(pd.DataFrame(data=d).to_html()))\n",
    "    plt.legend()\n",
    "    plt.show()"
   ]
  }
 ],
 "metadata": {
  "kernelspec": {
   "display_name": "Python 3 (ipykernel)",
   "language": "python",
   "name": "python3"
  },
  "language_info": {
   "codemirror_mode": {
    "name": "ipython",
    "version": 3
   },
   "file_extension": ".py",
   "mimetype": "text/x-python",
   "name": "python",
   "nbconvert_exporter": "python",
   "pygments_lexer": "ipython3",
   "version": "3.9.0"
  }
 },
 "nbformat": 4,
 "nbformat_minor": 2
}
