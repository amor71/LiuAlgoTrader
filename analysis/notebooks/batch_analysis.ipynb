{
 "cells": [
  {
   "cell_type": "markdown",
   "metadata": {},
   "source": [
    "# Select batch-id for execution"
   ]
  },
  {
   "cell_type": "code",
   "execution_count": null,
   "metadata": {},
   "outputs": [],
   "source": [
    "%env DATA_CONNECTOR=alpaca\n",
    "%env LIU_BROKER=alpaca\n",
    "batch_id = \"7b4945db-26ae-41fa-9f14-b49e24778562\" ## enter batch-id"
   ]
  },
  {
   "cell_type": "markdown",
   "metadata": {},
   "source": [
    "#### imports"
   ]
  },
  {
   "cell_type": "code",
   "execution_count": null,
   "metadata": {},
   "outputs": [],
   "source": [
    "import asyncio\n",
    "import json\n",
    "import math\n",
    "import sys\n",
    "from datetime import date, datetime, timedelta\n",
    "\n",
    "import alpaca_trade_api as tradeapi\n",
    "import iso8601\n",
    "import matplotlib.pyplot as plt\n",
    "import nest_asyncio\n",
    "import numpy as np\n",
    "import pandas as pd\n",
    "import pytz\n",
    "import requests\n",
    "from dateutil import parser\n",
    "from IPython.display import HTML, display, Markdown\n",
    "from liualgotrader.analytics.analysis import (\n",
    "    calc_batch_revenue,\n",
    "    count_trades,\n",
    "    load_trades_by_batch_id,\n",
    "    trades_analysis,\n",
    "    symbol_trade_analytics,\n",
    ")\n",
    "\n",
    "from liualgotrader.common import config\n",
    "from pandas import DataFrame as df\n",
    "from pytz import timezone\n",
    "from liualgotrader.common.data_loader import DataLoader \n",
    "%matplotlib inline\n",
    "\n",
    "nest_asyncio.apply()"
   ]
  },
  {
   "cell_type": "markdown",
   "metadata": {},
   "source": [
    "#### Load batch data"
   ]
  },
  {
   "cell_type": "code",
   "execution_count": null,
   "metadata": {},
   "outputs": [],
   "source": [
    "trades = await load_trades_by_batch_id(batch_id)"
   ]
  },
  {
   "cell_type": "code",
   "execution_count": null,
   "metadata": {},
   "outputs": [],
   "source": [
    "trades"
   ]
  },
  {
   "cell_type": "code",
   "execution_count": null,
   "metadata": {},
   "outputs": [],
   "source": [
    "if trades.empty:\n",
    "    assert False, \"Empty batch. halting execution.\""
   ]
  },
  {
   "cell_type": "markdown",
   "metadata": {},
   "source": [
    "## Calculating batch performance"
   ]
  },
  {
   "cell_type": "code",
   "execution_count": null,
   "metadata": {},
   "outputs": [],
   "source": [
    "how_was_my_batch = trades_analysis(trades, batch_id)"
   ]
  },
  {
   "cell_type": "code",
   "execution_count": null,
   "metadata": {},
   "outputs": [],
   "source": [
    "pd.set_option(\"display.max_rows\", how_was_my_batch.shape[0] + 1)\n",
    "revenues = round(sum(how_was_my_batch[\"revenues\"]), 2)\n",
    "traded = len(how_was_my_batch)\n",
    "win_ratio = round(\n",
    "        1.0\n",
    "        * len(how_was_my_batch[how_was_my_batch.revenues >= 0])\n",
    "        / len(how_was_my_batch[how_was_my_batch.revenues < 0]),\n",
    "        2,\n",
    "    ) if len(how_was_my_batch[how_was_my_batch.revenues < 0]) else \"high!\"\n",
    "print(\n",
    "    f\"Total revenues=${revenues}\\nTotal traded:{traded} Win/Lose ration {win_ratio}\"\n",
    ")\n",
    "\n",
    "display(\n",
    "    Markdown(f\"{len(how_was_my_batch[how_was_my_batch.revenues >= 0])} **Winners**\")\n",
    ")\n",
    "display(how_was_my_batch[how_was_my_batch.revenues >= 0].sort_values('revenues'))\n",
    "display(Markdown(f\"{len(how_was_my_batch[how_was_my_batch.revenues < 0])} **Lossers**\"))\n",
    "display(how_was_my_batch[how_was_my_batch.revenues < 0].sort_values('revenues'))"
   ]
  },
  {
   "cell_type": "markdown",
   "metadata": {},
   "source": [
    "## Display trades in details"
   ]
  },
  {
   "cell_type": "code",
   "execution_count": null,
   "metadata": {},
   "outputs": [],
   "source": [
    "minute_history = DataLoader()\n",
    "for symbol in trades.symbol.unique():\n",
    "    symbol_df = trades.loc[trades[\"symbol\"] == symbol]\n",
    "    start_date = (\n",
    "        symbol_df[\"client_time\"]\n",
    "        .min()\n",
    "        .replace(hour=9, minute=30, second=0, microsecond=0) \n",
    "    )\n",
    "    end_date = (\n",
    "        symbol_df[\"client_time\"]\n",
    "        .max()\n",
    "        .replace(hour=16, minute=0, second=0, microsecond=0)\n",
    "    )\n",
    "    symbol_data = minute_history[symbol][start_date:end_date]\n",
    "    ind = symbol_data.index.get_indexer([start_date, end_date], method=\"nearest\")\n",
    "    minute_history_index = ind[0]\n",
    "    end_index = ind[1]\n",
    "    plt.plot(\n",
    "        symbol_data.close[minute_history_index:end_index].between_time(\"9:30\", \"16:00\"),\n",
    "        label=symbol,\n",
    "    )\n",
    "    plt.xticks(rotation=45)\n",
    "\n",
    "    d, profit = symbol_trade_analytics(symbol_df, plt)\n",
    "\n",
    "    print(f\"{symbol} analysis with profit {round(profit, 2)}\")\n",
    "    display(HTML(pd.DataFrame(data=d).to_html()))\n",
    "    plt.legend()\n",
    "    plt.show()"
   ]
  }
 ],
 "metadata": {
  "kernelspec": {
   "display_name": "Python 3 (ipykernel)",
   "language": "python",
   "name": "python3"
  },
  "language_info": {
   "codemirror_mode": {
    "name": "ipython",
    "version": 3
   },
   "file_extension": ".py",
   "mimetype": "text/x-python",
   "name": "python",
   "nbconvert_exporter": "python",
   "pygments_lexer": "ipython3"
  }
 },
 "nbformat": 4,
 "nbformat_minor": 2
}
