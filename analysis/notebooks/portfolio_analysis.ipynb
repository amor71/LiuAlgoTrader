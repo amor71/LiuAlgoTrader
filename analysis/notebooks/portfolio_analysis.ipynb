{
 "cells": [
  {
   "cell_type": "markdown",
   "metadata": {},
   "source": [
    "## Take Action: Select portfolio for analysis"
   ]
  },
  {
   "cell_type": "code",
   "execution_count": null,
   "metadata": {},
   "outputs": [],
   "source": [
    "%env DATA_CONNECTOR=gemini\n",
    "portfolio_id = \"2c4f5fd5-e707-4d60-8f1f-c09f5ca3f24b\"\n",
    "report_title = \"Crypto volatility trading (incl transaction fees) vs. SPY\""
   ]
  },
  {
   "cell_type": "markdown",
   "metadata": {},
   "source": [
    "### Imports"
   ]
  },
  {
   "cell_type": "code",
   "execution_count": null,
   "metadata": {},
   "outputs": [],
   "source": [
    "import matplotlib.pyplot as plt\n",
    "import empyrical as ep\n",
    "import math\n",
    "import pandas as pd\n",
    "import numpy as np\n",
    "import quantstats as qs\n",
    "from IPython.display import HTML, display, Markdown\n",
    "from liualgotrader.analytics import analysis\n",
    "import matplotlib.ticker as mtick\n",
    "from datetime import date, timedelta\n",
    "%matplotlib inline"
   ]
  },
  {
   "cell_type": "markdown",
   "metadata": {},
   "source": [
    "### Load data details"
   ]
  },
  {
   "cell_type": "code",
   "execution_count": null,
   "metadata": {},
   "outputs": [],
   "source": [
    "portfolio_returns = analysis.calc_portfolio_returns(portfolio_id)"
   ]
  },
  {
   "cell_type": "code",
   "execution_count": null,
   "metadata": {},
   "outputs": [],
   "source": [
    "portfolio_returns"
   ]
  },
  {
   "cell_type": "code",
   "execution_count": null,
   "metadata": {},
   "outputs": [],
   "source": [
    "fill_df = pd.DataFrame(\n",
    "    index=pd.date_range(portfolio_returns.index[-1] + timedelta(days=1), date.today()),\n",
    "    columns=portfolio_returns.columns,\n",
    ")\n",
    "fill_df.equity=portfolio_returns.equity[-1]\n",
    "fill_df.cash=portfolio_returns.cash[-1]\n",
    "fill_df.totals=portfolio_returns.totals[-1]\n",
    "portfolio_returns=pd.concat([portfolio_returns,fill_df])"
   ]
  },
  {
   "cell_type": "code",
   "execution_count": null,
   "metadata": {},
   "outputs": [],
   "source": [
    "if len(portfolio_returns):\n",
    "    qs.extend_pandas()\n",
    "    qs.reports.html(portfolio_returns.totals.pct_change(1), \"SPY\", title=report_title, output=\"/tmp/tearsheet.html\")"
   ]
  },
  {
   "cell_type": "code",
   "execution_count": null,
   "metadata": {},
   "outputs": [],
   "source": [
    "HTML(filename=\"/tmp/tearsheet.html\")"
   ]
  }
 ],
 "metadata": {
  "kernelspec": {
   "display_name": "Python 3 (ipykernel)",
   "language": "python",
   "name": "python3"
  },
  "language_info": {
   "codemirror_mode": {
    "name": "ipython",
    "version": 3
   },
   "file_extension": ".py",
   "mimetype": "text/x-python",
   "name": "python",
   "nbconvert_exporter": "python",
   "pygments_lexer": "ipython3",
   "version": "3.9.0"
  }
 },
 "nbformat": 4,
 "nbformat_minor": 2
}
