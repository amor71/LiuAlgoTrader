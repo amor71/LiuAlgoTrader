{
 "cells": [
  {
   "cell_type": "markdown",
   "metadata": {},
   "source": [
    "## Take Action: Select portfolio for analysis"
   ]
  },
  {
   "cell_type": "code",
   "execution_count": null,
   "metadata": {},
   "outputs": [],
   "source": [
    "%env DATA_CONNECTOR=alpaca\n",
    "portfolio_id =  \"db1019c3-960d-4994-9fff-9a6aac8271e9\" ## Enter portfolio_id \n",
    "report_title = \"\"## Enter Report title"
   ]
  },
  {
   "cell_type": "markdown",
   "metadata": {},
   "source": [
    "### Imports"
   ]
  },
  {
   "cell_type": "code",
   "execution_count": null,
   "metadata": {},
   "outputs": [],
   "source": [
    "import matplotlib.pyplot as plt\n",
    "import empyrical as ep\n",
    "import math\n",
    "import pandas as pd\n",
    "import numpy as np\n",
    "import quantstats as qs\n",
    "from IPython.display import HTML, display, Markdown\n",
    "from liualgotrader.analytics import analysis\n",
    "import matplotlib.ticker as mtick\n",
    "from datetime import datetime, date, timedelta\n",
    "%matplotlib inline"
   ]
  },
  {
   "cell_type": "markdown",
   "metadata": {},
   "source": [
    "### Load data details"
   ]
  },
  {
   "cell_type": "code",
   "execution_count": null,
   "metadata": {},
   "outputs": [],
   "source": [
    "portfolio_returns = await analysis.calc_portfolio_returns(portfolio_id)"
   ]
  },
  {
   "cell_type": "code",
   "execution_count": null,
   "metadata": {},
   "outputs": [],
   "source": [
    "from pytz import timezone\n",
    "nyc = timezone('America/New_York')\n",
    "portfolio_returns.index\n",
    "#portfolio_returns.index = portfolio_returns.index.tz_convert(None)#.tz_localize(nyc)\n",
    "\n",
    "portfolio_returns"
   ]
  },
  {
   "cell_type": "code",
   "execution_count": null,
   "metadata": {},
   "outputs": [],
   "source": [
    "fill_df = pd.DataFrame(\n",
    "    index=pd.date_range(portfolio_returns.index[-1] + timedelta(days=1), datetime.now()),\n",
    "    columns=portfolio_returns.columns,\n",
    ")\n",
    "fill_df.equity=portfolio_returns.equity[-1]\n",
    "fill_df.cash=portfolio_returns.cash[-1]\n",
    "fill_df.totals=portfolio_returns.totals[-1]\n",
    "portfolio_returns=pd.concat([portfolio_returns,fill_df])\n",
    "portfolio_returns"
   ]
  },
  {
   "cell_type": "code",
   "execution_count": null,
   "metadata": {},
   "outputs": [],
   "source": [
    "if len(portfolio_returns):\n",
    "    qs.extend_pandas()\n",
    "    bench = qs.utils.download_returns(\"SPY\")\n",
    "    bench.index = bench.index.tz_convert(None)\n",
    "    qs.reports.html(\n",
    "        portfolio_returns.totals.pct_change(1),\n",
    "        #\"SPY\",\n",
    "        benchmark=bench,\n",
    "        title=report_title,\n",
    "        output=\"/tmp/tearsheet.html\",\n",
    "        download_filename=\"/tmp/tearsheet.html\",\n",
    "    )"
   ]
  },
  {
   "cell_type": "code",
   "execution_count": null,
   "metadata": {},
   "outputs": [],
   "source": [
    "bench\n",
    "HTML(filename=\"/tmp/tearsheet.html\")"
   ]
  },
  {
   "cell_type": "code",
   "execution_count": null,
   "metadata": {},
   "outputs": [],
   "source": []
  }
 ],
 "metadata": {
  "kernelspec": {
   "display_name": "Python 3 (ipykernel)",
   "language": "python",
   "name": "python3"
  },
  "language_info": {
   "codemirror_mode": {
    "name": "ipython",
    "version": 3
   },
   "file_extension": ".py",
   "mimetype": "text/x-python",
   "name": "python",
   "nbconvert_exporter": "python",
   "pygments_lexer": "ipython3",
   "version": "3.9.15"
  }
 },
 "nbformat": 4,
 "nbformat_minor": 2
}
